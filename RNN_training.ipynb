{
 "cells": [
  {
   "cell_type": "code",
   "execution_count": 1,
   "metadata": {},
   "outputs": [],
   "source": [
    "import numpy as np\n",
    "import pandas as pd\n",
    "from math import ceil\n",
    "import torch\n",
    "import torch.nn as nn\n",
    "from torch.utils.data import random_split, DataLoader, Subset\n",
    "from sklearn.metrics import roc_auc_score, RocCurveDisplay\n",
    "import matplotlib.pyplot as plt\n",
    "import time\n",
    "import sys\n",
    "\n",
    "from libraries import RNN_get_torch_data as torch_data\n",
    "\n",
    "data_path = \"data\""
   ]
  },
  {
   "cell_type": "code",
   "execution_count": 2,
   "metadata": {},
   "outputs": [],
   "source": [
    "def feature_sampler(input, colsample, generator):\n",
    "    '''\n",
    "    set to zeros the sampled time series, the ones with null values are forced to be included\n",
    "    Inputs\n",
    "    ---\n",
    "    input : torch.Tensor (batch_size, seq_len, n_features)\n",
    "    colsample : scalar value in (0,1), it is the ratio of kept features\n",
    "    generator : torch.Generator\n",
    "    return: tensor (batch_size, seq_len, n_features)\n",
    "    '''\n",
    "    flags = torch.logical_not(torch.isnan(input).any(dim=1))\n",
    "    n_features = input.shape[2]\n",
    "    n_to_keep = ceil(n_features * colsample)\n",
    "    probs = nn.functional.normalize(flags.float(), p=1, dim=1)\n",
    "    cols_to_keep = torch.multinomial(probs, num_samples=n_to_keep, replacement=False, generator=generator)\n",
    "    # index creation\n",
    "    ind_to_keep = torch.zeros_like(input, dtype=torch.bool)\n",
    "    ind_to_keep[np.arange(stop=input.shape[0])[:, np.newaxis, np.newaxis], \\\n",
    "                np.arange(stop=input.shape[1])[np.newaxis, :, np.newaxis], \\\n",
    "                cols_to_keep[:, None, :]] = True\n",
    "    # masked input creation\n",
    "    output = torch.where(ind_to_keep, input, torch.zeros_like(input))\n",
    "    return output"
   ]
  },
  {
   "cell_type": "code",
   "execution_count": 3,
   "metadata": {},
   "outputs": [],
   "source": [
    "class dense(nn.Module):\n",
    "    '''\n",
    "    input: tensor of size (batch_size, input_size)\n",
    "    output: tensor of size (batch_size, ouput_size)\n",
    "    '''\n",
    "    def __init__(self, input_size, output_size, non_linearity):\n",
    "        super(dense, self).__init__()\n",
    "        \n",
    "        # dense connection\n",
    "        self.dc = nn.Linear(in_features=input_size, out_features=output_size)\n",
    "\n",
    "        # non linearity\n",
    "        if non_linearity is None:\n",
    "            self.act_fn == (lambda x: x)\n",
    "        if non_linearity == 'tanh':\n",
    "            self.act_fn = nn.Tanh()\n",
    "        elif non_linearity == 'RELU':\n",
    "            self.act_fn = nn.ReLU()\n",
    "        elif non_linearity == 'sigmoid':\n",
    "            self.act_fn = nn.Sigmoid()\n",
    "        else:\n",
    "            raise ValueError('non_linearity function is not available, choose between \"tanh\", \"RELU\", \"sigmoid\"')\n",
    "        \n",
    "    def forward(self, x):\n",
    "        out = self.dc(x)\n",
    "        return self.act_fn(out)"
   ]
  },
  {
   "cell_type": "code",
   "execution_count": 4,
   "metadata": {},
   "outputs": [],
   "source": [
    "class Model(nn.Module):\n",
    "    def __init__(self, colsample, dense1_size, dense2_size, dense3_size, dense4_size, dense5_size,\n",
    "        GRU_size, features, seed):\n",
    "        super(Model, self).__init__()\n",
    "\n",
    "        # initialize generator\n",
    "        self.generator = torch.Generator().manual_seed(seed)\n",
    "\n",
    "        # first features sampling step\n",
    "        self.feat_sampling = lambda input: feature_sampler(input, colsample, self.generator)\n",
    "\n",
    "        # 1st dense layer\n",
    "        self.dense1 = dense(input_size=len(features), output_size=dense1_size, non_linearity='tanh')\n",
    "\n",
    "        # GRU layer\n",
    "        self.GRU = nn.GRU(input_size=dense1_size, hidden_size=GRU_size, num_layers=1,\\\n",
    "                bias=True, batch_first=True)\n",
    "\n",
    "        # dropout layer\n",
    "        self.dropout = nn.Dropout(.5)\n",
    "\n",
    "        # 2nd dense layer\n",
    "        self.dense2 = dense(input_size=GRU_size, output_size=dense2_size, non_linearity='RELU')\n",
    "\n",
    "        #3rd dense layer\n",
    "        self.dense3 = dense(input_size=dense2_size, output_size=dense3_size, non_linearity='RELU')\n",
    "\n",
    "        # 4th dense layer\n",
    "        self.dense4 = dense(input_size=dense3_size, output_size=dense4_size, non_linearity='RELU')\n",
    "\n",
    "        # 5th dense layer\n",
    "        self.dense5 = dense(input_size=dense4_size, output_size=dense5_size, non_linearity='RELU')\n",
    "\n",
    "        # fully connected layer\n",
    "        self.fc = nn.Linear(in_features=dense5_size, out_features=1)\n",
    "\n",
    "        # descriptive\n",
    "        self.hidden_size = GRU_size\n",
    "        self.features = features\n",
    "        self.seed = seed\n",
    "\n",
    "        # params\n",
    "        self.colsample = colsample\n",
    "    \n",
    "    def forward(self, x):\n",
    "        if self.training:\n",
    "            # feature sampling step\n",
    "            out = self.feat_sampling(input=x)\n",
    "        else:\n",
    "            out = torch.nan_to_num(x)\n",
    "\n",
    "        # 1st dense layers step\n",
    "        out = self.dense1(out)\n",
    "        out = self.dropout(out)\n",
    "        # GRU step\n",
    "        out_t, _ = self.GRU(input=out)\n",
    "        out = out_t.select(1, -1) # select the last hidden state\n",
    "        out = self.dropout(out)\n",
    "        # further dense layer steps\n",
    "        out = self.dense2(out)\n",
    "        out = self.dropout(out)\n",
    "        out = self.dense3(out)\n",
    "        out = self.dropout(out)\n",
    "        out = self.dense4(out)\n",
    "        out = self.dropout(out)\n",
    "        out = self.dense5(out)\n",
    "        out = self.dropout(out)\n",
    "        # fc step\n",
    "        out = torch.sigmoid(self.fc(out))\n",
    "\n",
    "        return out"
   ]
  },
  {
   "cell_type": "code",
   "execution_count": 5,
   "metadata": {},
   "outputs": [],
   "source": [
    "train_data = torch_data.get_train_data(data_path=data_path, n_perturbed_replicas=2, seed=12497)"
   ]
  },
  {
   "cell_type": "code",
   "execution_count": 6,
   "metadata": {},
   "outputs": [
    {
     "name": "stdout",
     "output_type": "stream",
     "text": [
      "GPU not available, CPU used\n"
     ]
    }
   ],
   "source": [
    "if torch.cuda.is_available():\n",
    "    device = torch.device(\"cuda\")\n",
    "    print(\"GPU is available\")\n",
    "else:\n",
    "    device = torch.device(\"cpu\")\n",
    "    print(\"GPU not available, CPU used\")"
   ]
  },
  {
   "cell_type": "code",
   "execution_count": 45,
   "metadata": {},
   "outputs": [],
   "source": [
    "def validate(device, model, metric, batch):\n",
    "    model.eval()\n",
    "    with torch.no_grad():\n",
    "        X, y = batch[:]\n",
    "        X = X.float().to(device=device)\n",
    "        pred = model(X).flatten().detach().numpy()\n",
    "    return metric(y_true=y, y_score=pred)"
   ]
  },
  {
   "cell_type": "code",
   "execution_count": 40,
   "metadata": {},
   "outputs": [],
   "source": [
    "def batch_train(device, model, optimizer, objective_function, batch):\n",
    "    X, y = batch\n",
    "    X = X.float().to(device=device)\n",
    "    y = y.float().to(device=device)\n",
    "    optimizer.zero_grad() # Clears existing gradients from previous batch\n",
    "    pred = model(X).flatten()\n",
    "    loss = objective_function(pred, y)\n",
    "    loss.backward() # Does backpropagation and calculates gradients\n",
    "    optimizer.step() # Updates the weights accordingly"
   ]
  },
  {
   "cell_type": "code",
   "execution_count": 30,
   "metadata": {},
   "outputs": [],
   "source": [
    "class TrainTrial():\n",
    "    def __init__(self, batch_size, max_n_epochs, patience, min_validation_rate, train_data, seed):\n",
    "        rng = np.random.Generator(np.random.PCG64(seed=seed))\n",
    "        seeds = rng.integers(low=0, high=sys.maxsize, size=2).tolist()\n",
    "        split_generator = torch.Generator().manual_seed(seeds[0])\n",
    "        batch_generator = torch.Generator().manual_seed(seeds[1])\n",
    "        n_samples = len(train_data)\n",
    "        residual_batch_size = n_samples % batch_size\n",
    "        if n_samples * min_validation_rate <= residual_batch_size:\n",
    "            n_batches = n_samples // batch_size\n",
    "            validation_batch_size = residual_batch_size\n",
    "        else:\n",
    "            n_batches = n_samples // batch_size - 1\n",
    "            validation_batch_size = residual_batch_size + batch_size        \n",
    "        assert(n_batches * batch_size + validation_batch_size == n_samples)\n",
    "        \n",
    "        train_validation_split = random_split(dataset=train_data,\n",
    "                lengths=[len(train_data) - validation_batch_size, validation_batch_size],\n",
    "                generator=split_generator)\n",
    "        validation_batch = train_validation_split[1]\n",
    "        train_loader = DataLoader(dataset=train_validation_split[0],\n",
    "            batch_size=batch_size, shuffle=True, generator=batch_generator)\n",
    "\n",
    "        self.n_batches = n_batches\n",
    "        self.batch_size = batch_size\n",
    "        self.validation_batch_size = validation_batch_size\n",
    "        self.validation_batch = validation_batch\n",
    "        self.train_loader = train_loader\n",
    "        self.max_n_epochs = max_n_epochs\n",
    "        self.patience = patience\n",
    "        self.validation_scores = None\n",
    "        self.best_validation_score = None\n",
    "        self.trigger_times = None\n",
    "        self.best_state_dict = None\n",
    "\n",
    "    def train(self, device, model, optimizer, objective_function, validation_metric):\n",
    "        self.validation_scores = []\n",
    "        self.best_validation_score = - np.infty\n",
    "        self.trigger_times = 0\n",
    "        since = time.time()\n",
    "        for epoch in range(1, self.max_n_epochs + 1):\n",
    "            # training\n",
    "            model.train()\n",
    "            for batch in self.train_loader:\n",
    "                batch_train(device=device, model=model, optimizer=optimizer, \n",
    "                    objective_function=objective_function, batch=batch)\n",
    "            # validation\n",
    "            current_validation_score = validate(device=device, model=model,\n",
    "                metric=validation_metric, batch=self.validation_batch)\n",
    "            self.validation_scores.append(current_validation_score)\n",
    "            if current_validation_score > self.best_validation_score:\n",
    "                self.trigger_times = 0\n",
    "                self.best_validation_score = current_validation_score\n",
    "                self.best_state_dict = model.state_dict()\n",
    "            else:\n",
    "                self.trigger_times += 1\n",
    "                if self.trigger_times >= self.patience:\n",
    "                    print('Early stopping.')\n",
    "                    break\n",
    "            # print details    \n",
    "            if epoch % 10 == 0:\n",
    "                print(f'Epoch {epoch}:')\n",
    "                print('\\ttriggers: {}'.format(self.trigger_times))\n",
    "                print('\\tbest score: {}'.format(self.best_validation_score))\n",
    "                avg_time = round((time.time() - since) / 10, 2)\n",
    "                print('\\t{} seconds per epoch on average.'.format(avg_time))\n",
    "                since = time.time()\n",
    "\n",
    "        model.load_state_dict(self.best_state_dict)\n",
    "        return model"
   ]
  },
  {
   "cell_type": "code",
   "execution_count": 46,
   "metadata": {},
   "outputs": [],
   "source": [
    "model = Model(colsample=.5, dense1_size=400, GRU_size=200, dense2_size=200, dense3_size=150,\n",
    "        dense4_size=100, dense5_size=40, features=train_data.features, seed=24338)\n",
    "model = model.to(device)"
   ]
  },
  {
   "cell_type": "code",
   "execution_count": 47,
   "metadata": {},
   "outputs": [],
   "source": [
    "learning_rate = .001\n",
    "criterion = nn.BCELoss()\n",
    "optimizer = torch.optim.Adam(model.parameters(), lr=learning_rate)"
   ]
  },
  {
   "cell_type": "code",
   "execution_count": 48,
   "metadata": {},
   "outputs": [],
   "source": [
    "trial = TrainTrial(batch_size=3000, max_n_epochs=200, patience=7,\n",
    "    min_validation_rate=.05, train_data=train_data, seed=35375)"
   ]
  },
  {
   "cell_type": "code",
   "execution_count": 49,
   "metadata": {},
   "outputs": [
    {
     "name": "stdout",
     "output_type": "stream",
     "text": [
      "Epoch 10:\n",
      "\ttriggers: 0\n",
      "\tbest score: 0.7196928009626109\n",
      "\t28.61 seconds per epoch on average.\n",
      "Epoch 20:\n",
      "\ttriggers: 0\n",
      "\tbest score: 0.7384034054965337\n",
      "\t28.02 seconds per epoch on average.\n",
      "Epoch 30:\n",
      "\ttriggers: 0\n",
      "\tbest score: 0.7465908553605551\n",
      "\t26.89 seconds per epoch on average.\n"
     ]
    }
   ],
   "source": [
    "model = trial.train(device=device, model=model, optimizer=optimizer,\n",
    "    objective_function=criterion, validation_metric=roc_auc_score)"
   ]
  },
  {
   "cell_type": "code",
   "execution_count": 226,
   "metadata": {},
   "outputs": [
    {
     "data": {
      "image/png": "[encoded data removed]",
      "text/plain": [
       "<Figure size 1440x504 with 1 Axes>"
      ]
     },
     "metadata": {
      "needs_background": "light"
     },
     "output_type": "display_data"
    }
   ],
   "source": [
    "fig, ax = plt.subplots(figsize=(20,7))\n",
    "ax.plot(trial.validation_scores)\n",
    "ax.set_xlabel('epoch')\n",
    "ax.set_ylabel('AUC')\n",
    "plt.show()"
   ]
  },
  {
   "cell_type": "code",
   "execution_count": 227,
   "metadata": {},
   "outputs": [],
   "source": [
    "test_data = torch_data.get_test_data(data_path=data_path)"
   ]
  },
  {
   "cell_type": "code",
   "execution_count": 228,
   "metadata": {},
   "outputs": [],
   "source": [
    "X = test_data.X.float().to(device)\n",
    "y = test_data.y.float().to(device)"
   ]
  },
  {
   "cell_type": "code",
   "execution_count": 229,
   "metadata": {},
   "outputs": [
    {
     "data": {
      "text/plain": [
       "Model(\n",
       "  (dense1): dense(\n",
       "    (dc): Linear(in_features=186, out_features=800, bias=True)\n",
       "    (act_fn): Tanh()\n",
       "  )\n",
       "  (GRU): GRU(800, 800, num_layers=2, batch_first=True)\n",
       "  (dropout): Dropout(p=0.5, inplace=False)\n",
       "  (dense2): dense(\n",
       "    (dc): Linear(in_features=800, out_features=500, bias=True)\n",
       "    (act_fn): ReLU()\n",
       "  )\n",
       "  (dense3): dense(\n",
       "    (dc): Linear(in_features=500, out_features=250, bias=True)\n",
       "    (act_fn): ReLU()\n",
       "  )\n",
       "  (dense4): dense(\n",
       "    (dc): Linear(in_features=250, out_features=70, bias=True)\n",
       "    (act_fn): ReLU()\n",
       "  )\n",
       "  (fc): Linear(in_features=70, out_features=1, bias=True)\n",
       ")"
      ]
     },
     "execution_count": 229,
     "metadata": {},
     "output_type": "execute_result"
    }
   ],
   "source": [
    "model.eval()"
   ]
  },
  {
   "cell_type": "code",
   "execution_count": 230,
   "metadata": {},
   "outputs": [],
   "source": [
    "pred = model(X).detach().numpy()"
   ]
  },
  {
   "cell_type": "code",
   "execution_count": 231,
   "metadata": {},
   "outputs": [],
   "source": [
    "y_true = y.detach().numpy()"
   ]
  },
  {
   "cell_type": "code",
   "execution_count": 232,
   "metadata": {},
   "outputs": [
    {
     "data": {
      "image/png": "[encoded data removed]",
      "text/plain": [
       "<Figure size 432x288 with 1 Axes>"
      ]
     },
     "metadata": {
      "needs_background": "light"
     },
     "output_type": "display_data"
    }
   ],
   "source": [
    "RocCurveDisplay.from_predictions(y_true, pred)\n",
    "plt.show()"
   ]
  },
  {
   "cell_type": "code",
   "execution_count": null,
   "metadata": {},
   "outputs": [],
   "source": []
  }
 ],
 "metadata": {
  "kernelspec": {
   "display_name": "Python 3.8.13",
   "language": "python",
   "name": "python3"
  },
  "language_info": {
   "codemirror_mode": {
    "name": "ipython",
    "version": 3
   },
   "file_extension": ".py",
   "mimetype": "text/x-python",
   "name": "python",
   "nbconvert_exporter": "python",
   "pygments_lexer": "ipython3",
   "version": "3.8.13"
  },
  "orig_nbformat": 4,
  "vscode": {
   "interpreter": {
    "hash": "3948b8a14fe681f3b8f86162e1df90d00bc42759d8e55af1aa9c3ff009cfe0ec"
   }
  }
 },
 "nbformat": 4,
 "nbformat_minor": 2
}
